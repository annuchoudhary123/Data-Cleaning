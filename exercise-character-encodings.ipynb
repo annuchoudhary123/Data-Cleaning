{
 "cells": [
  {
   "cell_type": "markdown",
   "id": "5025d52d",
   "metadata": {
    "papermill": {
     "duration": 0.013164,
     "end_time": "2022-05-13T18:41:14.852042",
     "exception": false,
     "start_time": "2022-05-13T18:41:14.838878",
     "status": "completed"
    },
    "tags": []
   },
   "source": [
    "**This notebook is an exercise in the [Data Cleaning](https://www.kaggle.com/learn/data-cleaning) course.  You can reference the tutorial at [this link](https://www.kaggle.com/alexisbcook/character-encodings).**\n",
    "\n",
    "---\n"
   ]
  },
  {
   "cell_type": "markdown",
   "id": "a076e660",
   "metadata": {
    "papermill": {
     "duration": 0.01234,
     "end_time": "2022-05-13T18:41:14.876641",
     "exception": false,
     "start_time": "2022-05-13T18:41:14.864301",
     "status": "completed"
    },
    "tags": []
   },
   "source": [
    "In this exercise, you'll apply what you learned in the **Character encodings** tutorial.\n",
    "\n",
    "# Setup\n",
    "\n",
    "The questions below will give you feedback on your work. Run the following cell to set up the feedback system."
   ]
  },
  {
   "cell_type": "code",
   "execution_count": 1,
   "id": "dff27499",
   "metadata": {
    "execution": {
     "iopub.execute_input": "2022-05-13T18:41:14.907089Z",
     "iopub.status.busy": "2022-05-13T18:41:14.906338Z",
     "iopub.status.idle": "2022-05-13T18:41:15.007256Z",
     "shell.execute_reply": "2022-05-13T18:41:15.006612Z"
    },
    "papermill": {
     "duration": 0.118308,
     "end_time": "2022-05-13T18:41:15.009670",
     "exception": false,
     "start_time": "2022-05-13T18:41:14.891362",
     "status": "completed"
    },
    "tags": []
   },
   "outputs": [
    {
     "name": "stdout",
     "output_type": "stream",
     "text": [
      "Setup Complete\n"
     ]
    }
   ],
   "source": [
    "from learntools.core import binder\n",
    "binder.bind(globals())\n",
    "from learntools.data_cleaning.ex4 import *\n",
    "print(\"Setup Complete\")"
   ]
  },
  {
   "cell_type": "markdown",
   "id": "9b5cabca",
   "metadata": {
    "papermill": {
     "duration": 0.012009,
     "end_time": "2022-05-13T18:41:15.035828",
     "exception": false,
     "start_time": "2022-05-13T18:41:15.023819",
     "status": "completed"
    },
    "tags": []
   },
   "source": [
    "# Get our environment set up\n",
    "\n",
    "The first thing we'll need to do is load in the libraries we'll be using."
   ]
  },
  {
   "cell_type": "code",
   "execution_count": 2,
   "id": "6104f9d6",
   "metadata": {
    "execution": {
     "iopub.execute_input": "2022-05-13T18:41:15.063502Z",
     "iopub.status.busy": "2022-05-13T18:41:15.062965Z",
     "iopub.status.idle": "2022-05-13T18:41:15.066504Z",
     "shell.execute_reply": "2022-05-13T18:41:15.065990Z"
    },
    "papermill": {
     "duration": 0.019541,
     "end_time": "2022-05-13T18:41:15.068290",
     "exception": false,
     "start_time": "2022-05-13T18:41:15.048749",
     "status": "completed"
    },
    "tags": []
   },
   "outputs": [],
   "source": [
    "# modules we'll use\n",
    "import pandas as pd\n",
    "import numpy as np\n",
    "\n",
    "# helpful character encoding module\n",
    "import chardet\n",
    "\n",
    "# set seed for reproducibility\n",
    "np.random.seed(0)"
   ]
  },
  {
   "cell_type": "markdown",
   "id": "e5f6eae3",
   "metadata": {
    "papermill": {
     "duration": 0.012063,
     "end_time": "2022-05-13T18:41:15.092849",
     "exception": false,
     "start_time": "2022-05-13T18:41:15.080786",
     "status": "completed"
    },
    "tags": []
   },
   "source": [
    "# 1) What are encodings?\n",
    "\n",
    "You're working with a dataset composed of bytes.  Run the code cell below to print a sample entry."
   ]
  },
  {
   "cell_type": "code",
   "execution_count": 3,
   "id": "55924113",
   "metadata": {
    "execution": {
     "iopub.execute_input": "2022-05-13T18:41:15.119389Z",
     "iopub.status.busy": "2022-05-13T18:41:15.118848Z",
     "iopub.status.idle": "2022-05-13T18:41:15.123911Z",
     "shell.execute_reply": "2022-05-13T18:41:15.122978Z"
    },
    "papermill": {
     "duration": 0.020508,
     "end_time": "2022-05-13T18:41:15.125857",
     "exception": false,
     "start_time": "2022-05-13T18:41:15.105349",
     "status": "completed"
    },
    "tags": []
   },
   "outputs": [
    {
     "name": "stdout",
     "output_type": "stream",
     "text": [
      "b'\\xa7A\\xa6n'\n",
      "data type: <class 'bytes'>\n"
     ]
    }
   ],
   "source": [
    "sample_entry = b'\\xa7A\\xa6n'\n",
    "print(sample_entry)\n",
    "print('data type:', type(sample_entry))"
   ]
  },
  {
   "cell_type": "markdown",
   "id": "cee81ca0",
   "metadata": {
    "papermill": {
     "duration": 0.012461,
     "end_time": "2022-05-13T18:41:15.151134",
     "exception": false,
     "start_time": "2022-05-13T18:41:15.138673",
     "status": "completed"
    },
    "tags": []
   },
   "source": [
    "You notice that it doesn't use the standard UTF-8 encoding. \n",
    "\n",
    "Use the next code cell to create a variable `new_entry` that changes the encoding from `\"big5-tw\"` to `\"utf-8\"`.  `new_entry` should have the bytes datatype."
   ]
  },
  {
   "cell_type": "code",
   "execution_count": 4,
   "id": "f5b6567a",
   "metadata": {
    "execution": {
     "iopub.execute_input": "2022-05-13T18:41:15.177872Z",
     "iopub.status.busy": "2022-05-13T18:41:15.177591Z",
     "iopub.status.idle": "2022-05-13T18:41:15.185830Z",
     "shell.execute_reply": "2022-05-13T18:41:15.185257Z"
    },
    "papermill": {
     "duration": 0.023853,
     "end_time": "2022-05-13T18:41:15.187677",
     "exception": false,
     "start_time": "2022-05-13T18:41:15.163824",
     "status": "completed"
    },
    "tags": []
   },
   "outputs": [
    {
     "data": {
      "application/javascript": [
       "parent.postMessage({\"jupyterEvent\": \"custom.exercise_interaction\", \"data\": {\"outcomeType\": 1, \"valueTowardsCompletion\": 0.3333333333333333, \"interactionType\": 1, \"questionType\": 1, \"questionId\": \"1_EncodingsIntro\", \"learnToolsVersion\": \"0.3.4\", \"failureMessage\": \"\", \"exceptionClass\": \"\", \"trace\": \"\"}}, \"*\")"
      ],
      "text/plain": [
       "<IPython.core.display.Javascript object>"
      ]
     },
     "metadata": {},
     "output_type": "display_data"
    },
    {
     "data": {
      "text/markdown": [
       "<span style=\"color:#33cc33\">Correct</span>"
      ],
      "text/plain": [
       "Correct"
      ]
     },
     "metadata": {},
     "output_type": "display_data"
    }
   ],
   "source": [
    "#new_entry = sample_entry.decode(\"utf-8\", errors=\"replace\")\n",
    "#print(new_entry.encode(\"utf-8\"))\n",
    "before = sample_entry.decode(\"big5-tw\")\n",
    "new_entry = before.encode()\n",
    "\n",
    "# Check your answer\n",
    "q1.check()"
   ]
  },
  {
   "cell_type": "code",
   "execution_count": 5,
   "id": "5d36356c",
   "metadata": {
    "execution": {
     "iopub.execute_input": "2022-05-13T18:41:15.217213Z",
     "iopub.status.busy": "2022-05-13T18:41:15.216291Z",
     "iopub.status.idle": "2022-05-13T18:41:15.225507Z",
     "shell.execute_reply": "2022-05-13T18:41:15.224954Z"
    },
    "papermill": {
     "duration": 0.025727,
     "end_time": "2022-05-13T18:41:15.227139",
     "exception": false,
     "start_time": "2022-05-13T18:41:15.201412",
     "status": "completed"
    },
    "tags": []
   },
   "outputs": [
    {
     "data": {
      "application/javascript": [
       "parent.postMessage({\"jupyterEvent\": \"custom.exercise_interaction\", \"data\": {\"interactionType\": 2, \"questionType\": 1, \"questionId\": \"1_EncodingsIntro\", \"learnToolsVersion\": \"0.3.4\", \"valueTowardsCompletion\": 0.0, \"failureMessage\": \"\", \"exceptionClass\": \"\", \"trace\": \"\", \"outcomeType\": 4}}, \"*\")"
      ],
      "text/plain": [
       "<IPython.core.display.Javascript object>"
      ]
     },
     "metadata": {},
     "output_type": "display_data"
    },
    {
     "data": {
      "text/markdown": [
       "<span style=\"color:#3366cc\">Hint:</span> Try using `.decode()` to get the string, then `.encode()` to get the bytes representation, encoded in UTF-8."
      ],
      "text/plain": [
       "Hint: Try using `.decode()` to get the string, then `.encode()` to get the bytes representation, encoded in UTF-8."
      ]
     },
     "metadata": {},
     "output_type": "display_data"
    },
    {
     "data": {
      "application/javascript": [
       "parent.postMessage({\"jupyterEvent\": \"custom.exercise_interaction\", \"data\": {\"interactionType\": 3, \"questionType\": 1, \"questionId\": \"1_EncodingsIntro\", \"learnToolsVersion\": \"0.3.4\", \"valueTowardsCompletion\": 0.0, \"failureMessage\": \"\", \"exceptionClass\": \"\", \"trace\": \"\", \"outcomeType\": 4}}, \"*\")"
      ],
      "text/plain": [
       "<IPython.core.display.Javascript object>"
      ]
     },
     "metadata": {},
     "output_type": "display_data"
    },
    {
     "data": {
      "text/markdown": [
       "<span style=\"color:#33cc99\">Solution:</span> \n",
       "```python\n",
       "before = sample_entry.decode(\"big5-tw\")\n",
       "new_entry = before.encode()\n",
       "\n",
       "```"
      ],
      "text/plain": [
       "Solution: \n",
       "```python\n",
       "before = sample_entry.decode(\"big5-tw\")\n",
       "new_entry = before.encode()\n",
       "\n",
       "```"
      ]
     },
     "metadata": {},
     "output_type": "display_data"
    }
   ],
   "source": [
    "# Lines below will give you a hint or solution code\n",
    "q1.hint()\n",
    "q1.solution()"
   ]
  },
  {
   "cell_type": "markdown",
   "id": "449f9ae3",
   "metadata": {
    "papermill": {
     "duration": 0.01507,
     "end_time": "2022-05-13T18:41:15.258881",
     "exception": false,
     "start_time": "2022-05-13T18:41:15.243811",
     "status": "completed"
    },
    "tags": []
   },
   "source": [
    "# 2) Reading in files with encoding problems\n",
    "\n",
    "Use the code cell below to read in this file at path `\"../input/fatal-police-shootings-in-the-us/PoliceKillingsUS.csv\"`.  \n",
    "\n",
    "Figure out what the correct encoding should be and read in the file to a DataFrame `police_killings`."
   ]
  },
  {
   "cell_type": "code",
   "execution_count": 6,
   "id": "8e37680b",
   "metadata": {
    "execution": {
     "iopub.execute_input": "2022-05-13T18:41:15.291586Z",
     "iopub.status.busy": "2022-05-13T18:41:15.290561Z",
     "iopub.status.idle": "2022-05-13T18:41:15.312530Z",
     "shell.execute_reply": "2022-05-13T18:41:15.311968Z"
    },
    "papermill": {
     "duration": 0.039945,
     "end_time": "2022-05-13T18:41:15.314201",
     "exception": false,
     "start_time": "2022-05-13T18:41:15.274256",
     "status": "completed"
    },
    "tags": []
   },
   "outputs": [
    {
     "data": {
      "application/javascript": [
       "parent.postMessage({\"jupyterEvent\": \"custom.exercise_interaction\", \"data\": {\"outcomeType\": 1, \"valueTowardsCompletion\": 0.3333333333333333, \"interactionType\": 1, \"questionType\": 1, \"questionId\": \"2_ReadIn\", \"learnToolsVersion\": \"0.3.4\", \"failureMessage\": \"\", \"exceptionClass\": \"\", \"trace\": \"\"}}, \"*\")"
      ],
      "text/plain": [
       "<IPython.core.display.Javascript object>"
      ]
     },
     "metadata": {},
     "output_type": "display_data"
    },
    {
     "data": {
      "text/markdown": [
       "<span style=\"color:#33cc33\">Correct</span>"
      ],
      "text/plain": [
       "Correct"
      ]
     },
     "metadata": {},
     "output_type": "display_data"
    }
   ],
   "source": [
    "# TODO: Load in the DataFrame correctly.\n",
    "police_killings = pd.read_csv(\"../input/fatal-police-shootings-in-the-us/PoliceKillingsUS.csv\",encoding= 'Windows-1252')\n",
    "police_killings\n",
    "# Check your answer\n",
    "q2.check()"
   ]
  },
  {
   "cell_type": "markdown",
   "id": "3def2792",
   "metadata": {
    "papermill": {
     "duration": 0.015879,
     "end_time": "2022-05-13T18:41:15.346343",
     "exception": false,
     "start_time": "2022-05-13T18:41:15.330464",
     "status": "completed"
    },
    "tags": []
   },
   "source": [
    "Feel free to use any additional code cells for supplemental work.  To get credit for finishing this question, you'll need to run `q2.check()` and get a result of **Correct**."
   ]
  },
  {
   "cell_type": "code",
   "execution_count": 7,
   "id": "505f623c",
   "metadata": {
    "execution": {
     "iopub.execute_input": "2022-05-13T18:41:15.384377Z",
     "iopub.status.busy": "2022-05-13T18:41:15.383862Z",
     "iopub.status.idle": "2022-05-13T18:41:15.387123Z",
     "shell.execute_reply": "2022-05-13T18:41:15.386541Z"
    },
    "papermill": {
     "duration": 0.024784,
     "end_time": "2022-05-13T18:41:15.389010",
     "exception": false,
     "start_time": "2022-05-13T18:41:15.364226",
     "status": "completed"
    },
    "tags": []
   },
   "outputs": [],
   "source": [
    "# (Optional) Use this code cell for any additional work."
   ]
  },
  {
   "cell_type": "code",
   "execution_count": 8,
   "id": "704fa9ea",
   "metadata": {
    "execution": {
     "iopub.execute_input": "2022-05-13T18:41:15.426251Z",
     "iopub.status.busy": "2022-05-13T18:41:15.425730Z",
     "iopub.status.idle": "2022-05-13T18:41:15.429443Z",
     "shell.execute_reply": "2022-05-13T18:41:15.428905Z"
    },
    "papermill": {
     "duration": 0.023459,
     "end_time": "2022-05-13T18:41:15.431149",
     "exception": false,
     "start_time": "2022-05-13T18:41:15.407690",
     "status": "completed"
    },
    "tags": []
   },
   "outputs": [],
   "source": [
    "# Lines below will give you a hint or solution code\n",
    "#q2.hint()\n",
    "#q2.solution()"
   ]
  },
  {
   "cell_type": "markdown",
   "id": "87dab769",
   "metadata": {
    "papermill": {
     "duration": 0.016222,
     "end_time": "2022-05-13T18:41:15.467840",
     "exception": false,
     "start_time": "2022-05-13T18:41:15.451618",
     "status": "completed"
    },
    "tags": []
   },
   "source": [
    "# 3) Saving your files with UTF-8 encoding\n",
    "\n",
    "Save a version of the police killings dataset to CSV with UTF-8 encoding.  Your answer will be marked correct after saving this file.  \n",
    "\n",
    "Note: When using the `to_csv()` method, supply only the name of the file (e.g., `\"my_file.csv\"`).  This saves the file at the filepath `\"/kaggle/working/my_file.csv\"`."
   ]
  },
  {
   "cell_type": "code",
   "execution_count": 9,
   "id": "097d2f00",
   "metadata": {
    "execution": {
     "iopub.execute_input": "2022-05-13T18:41:15.502291Z",
     "iopub.status.busy": "2022-05-13T18:41:15.501620Z",
     "iopub.status.idle": "2022-05-13T18:41:15.531590Z",
     "shell.execute_reply": "2022-05-13T18:41:15.531089Z"
    },
    "papermill": {
     "duration": 0.049116,
     "end_time": "2022-05-13T18:41:15.533278",
     "exception": false,
     "start_time": "2022-05-13T18:41:15.484162",
     "status": "completed"
    },
    "tags": []
   },
   "outputs": [
    {
     "data": {
      "application/javascript": [
       "parent.postMessage({\"jupyterEvent\": \"custom.exercise_interaction\", \"data\": {\"outcomeType\": 1, \"valueTowardsCompletion\": 0.3333333333333333, \"interactionType\": 1, \"questionType\": 2, \"questionId\": \"3_SaveCSV\", \"learnToolsVersion\": \"0.3.4\", \"failureMessage\": \"\", \"exceptionClass\": \"\", \"trace\": \"\"}}, \"*\")"
      ],
      "text/plain": [
       "<IPython.core.display.Javascript object>"
      ]
     },
     "metadata": {},
     "output_type": "display_data"
    },
    {
     "data": {
      "text/markdown": [
       "<span style=\"color:#33cc33\">Correct</span>"
      ],
      "text/plain": [
       "Correct"
      ]
     },
     "metadata": {},
     "output_type": "display_data"
    }
   ],
   "source": [
    "# TODO: Save the police killings dataset to CSV\n",
    "police_killings.to_csv(\"my_file.csv\")\n",
    "# Check your answer\n",
    "q3.check()"
   ]
  },
  {
   "cell_type": "code",
   "execution_count": 10,
   "id": "e4fcb620",
   "metadata": {
    "execution": {
     "iopub.execute_input": "2022-05-13T18:41:15.571104Z",
     "iopub.status.busy": "2022-05-13T18:41:15.570575Z",
     "iopub.status.idle": "2022-05-13T18:41:15.573477Z",
     "shell.execute_reply": "2022-05-13T18:41:15.572907Z"
    },
    "papermill": {
     "duration": 0.024459,
     "end_time": "2022-05-13T18:41:15.575097",
     "exception": false,
     "start_time": "2022-05-13T18:41:15.550638",
     "status": "completed"
    },
    "tags": []
   },
   "outputs": [],
   "source": [
    "# Lines below will give you a hint or solution code\n",
    "#q3.hint()\n",
    "#q3.solution()"
   ]
  },
  {
   "cell_type": "markdown",
   "id": "a4ef76ab",
   "metadata": {
    "papermill": {
     "duration": 0.017096,
     "end_time": "2022-05-13T18:41:15.609735",
     "exception": false,
     "start_time": "2022-05-13T18:41:15.592639",
     "status": "completed"
    },
    "tags": []
   },
   "source": [
    "# (Optional) More practice\n",
    "\n",
    "Check out [this dataset of files in different character encodings](https://www.kaggle.com/rtatman/character-encoding-examples). Can you read in all the files with their original encodings and them save them out as UTF-8 files?\n",
    "\n",
    "If you have a file that's in UTF-8 but has just a couple of weird-looking characters in it, you can try out the [ftfy module](https://ftfy.readthedocs.io/en/latest/#) and see if it helps. \n",
    "\n",
    "# Keep going\n",
    "\n",
    "In the final lesson, learn how to [**clean up inconsistent text entries**](https://www.kaggle.com/alexisbcook/inconsistent-data-entry) in your dataset."
   ]
  },
  {
   "cell_type": "markdown",
   "id": "a3af1272",
   "metadata": {
    "papermill": {
     "duration": 0.017133,
     "end_time": "2022-05-13T18:41:15.644387",
     "exception": false,
     "start_time": "2022-05-13T18:41:15.627254",
     "status": "completed"
    },
    "tags": []
   },
   "source": [
    "---\n",
    "\n",
    "\n",
    "\n",
    "\n",
    "*Have questions or comments? Visit the [course discussion forum](https://www.kaggle.com/learn/data-cleaning/discussion) to chat with other learners.*"
   ]
  }
 ],
 "metadata": {
  "kernelspec": {
   "display_name": "Python 3",
   "language": "python",
   "name": "python3"
  },
  "language_info": {
   "codemirror_mode": {
    "name": "ipython",
    "version": 3
   },
   "file_extension": ".py",
   "mimetype": "text/x-python",
   "name": "python",
   "nbconvert_exporter": "python",
   "pygments_lexer": "ipython3",
   "version": "3.7.12"
  },
  "papermill": {
   "default_parameters": {},
   "duration": 10.071247,
   "end_time": "2022-05-13T18:41:16.281027",
   "environment_variables": {},
   "exception": null,
   "input_path": "__notebook__.ipynb",
   "output_path": "__notebook__.ipynb",
   "parameters": {},
   "start_time": "2022-05-13T18:41:06.209780",
   "version": "2.3.4"
  }
 },
 "nbformat": 4,
 "nbformat_minor": 5
}
