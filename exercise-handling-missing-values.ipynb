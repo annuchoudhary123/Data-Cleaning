{
 "cells": [
  {
   "cell_type": "markdown",
   "id": "23490c54",
   "metadata": {
    "papermill": {
     "duration": 0.027011,
     "end_time": "2022-05-13T18:33:28.735617",
     "exception": false,
     "start_time": "2022-05-13T18:33:28.708606",
     "status": "completed"
    },
    "tags": []
   },
   "source": [
    "**This notebook is an exercise in the [Data Cleaning](https://www.kaggle.com/learn/data-cleaning) course.  You can reference the tutorial at [this link](https://www.kaggle.com/alexisbcook/handling-missing-values).**\n",
    "\n",
    "---\n"
   ]
  },
  {
   "cell_type": "markdown",
   "id": "28462b4e",
   "metadata": {
    "papermill": {
     "duration": 0.02512,
     "end_time": "2022-05-13T18:33:28.786455",
     "exception": false,
     "start_time": "2022-05-13T18:33:28.761335",
     "status": "completed"
    },
    "tags": []
   },
   "source": [
    "In this exercise, you'll apply what you learned in the **Handling missing values** tutorial.\n",
    "\n",
    "# Setup\n",
    "\n",
    "The questions below will give you feedback on your work. Run the following cell to set up the feedback system."
   ]
  },
  {
   "cell_type": "code",
   "execution_count": 1,
   "id": "0102b4b2",
   "metadata": {
    "execution": {
     "iopub.execute_input": "2022-05-13T18:33:28.840200Z",
     "iopub.status.busy": "2022-05-13T18:33:28.839614Z",
     "iopub.status.idle": "2022-05-13T18:33:33.942554Z",
     "shell.execute_reply": "2022-05-13T18:33:33.941428Z"
    },
    "papermill": {
     "duration": 5.132172,
     "end_time": "2022-05-13T18:33:33.945235",
     "exception": false,
     "start_time": "2022-05-13T18:33:28.813063",
     "status": "completed"
    },
    "tags": []
   },
   "outputs": [
    {
     "name": "stderr",
     "output_type": "stream",
     "text": [
      "/opt/conda/lib/python3.7/site-packages/ipykernel_launcher.py:3: DtypeWarning: Columns (22,32) have mixed types.Specify dtype option on import or set low_memory=False.\n",
      "  This is separate from the ipykernel package so we can avoid doing imports until\n"
     ]
    },
    {
     "name": "stdout",
     "output_type": "stream",
     "text": [
      "Setup Complete\n"
     ]
    }
   ],
   "source": [
    "from learntools.core import binder\n",
    "binder.bind(globals())\n",
    "from learntools.data_cleaning.ex1 import *\n",
    "print(\"Setup Complete\")"
   ]
  },
  {
   "cell_type": "markdown",
   "id": "84707355",
   "metadata": {
    "papermill": {
     "duration": 0.025862,
     "end_time": "2022-05-13T18:33:33.998371",
     "exception": false,
     "start_time": "2022-05-13T18:33:33.972509",
     "status": "completed"
    },
    "tags": []
   },
   "source": [
    "# 1) Take a first look at the data\n",
    "\n",
    "Run the next code cell to load in the libraries and dataset you'll use to complete the exercise."
   ]
  },
  {
   "cell_type": "code",
   "execution_count": 2,
   "id": "9daeb302",
   "metadata": {
    "execution": {
     "iopub.execute_input": "2022-05-13T18:33:34.052947Z",
     "iopub.status.busy": "2022-05-13T18:33:34.052405Z",
     "iopub.status.idle": "2022-05-13T18:33:35.936189Z",
     "shell.execute_reply": "2022-05-13T18:33:35.933743Z"
    },
    "papermill": {
     "duration": 1.914151,
     "end_time": "2022-05-13T18:33:35.939184",
     "exception": false,
     "start_time": "2022-05-13T18:33:34.025033",
     "status": "completed"
    },
    "tags": []
   },
   "outputs": [
    {
     "name": "stderr",
     "output_type": "stream",
     "text": [
      "/opt/conda/lib/python3.7/site-packages/IPython/core/interactiveshell.py:3524: DtypeWarning: Columns (22,32) have mixed types.Specify dtype option on import or set low_memory=False.\n",
      "  exec(code_obj, self.user_global_ns, self.user_ns)\n"
     ]
    }
   ],
   "source": [
    "# modules we'll use\n",
    "import pandas as pd\n",
    "import numpy as np\n",
    "\n",
    "# read in all our data\n",
    "sf_permits = pd.read_csv(\"../input/building-permit-applications-data/Building_Permits.csv\")\n",
    "\n",
    "# set seed for reproducibility\n",
    "np.random.seed(0) "
   ]
  },
  {
   "cell_type": "markdown",
   "id": "da3c148a",
   "metadata": {
    "papermill": {
     "duration": 0.026416,
     "end_time": "2022-05-13T18:33:35.992622",
     "exception": false,
     "start_time": "2022-05-13T18:33:35.966206",
     "status": "completed"
    },
    "tags": []
   },
   "source": [
    "Use the code cell below to print the first five rows of the `sf_permits` DataFrame."
   ]
  },
  {
   "cell_type": "code",
   "execution_count": 3,
   "id": "c550acc0",
   "metadata": {
    "execution": {
     "iopub.execute_input": "2022-05-13T18:33:36.050893Z",
     "iopub.status.busy": "2022-05-13T18:33:36.050621Z",
     "iopub.status.idle": "2022-05-13T18:33:36.091795Z",
     "shell.execute_reply": "2022-05-13T18:33:36.090914Z"
    },
    "papermill": {
     "duration": 0.076028,
     "end_time": "2022-05-13T18:33:36.095489",
     "exception": false,
     "start_time": "2022-05-13T18:33:36.019461",
     "status": "completed"
    },
    "tags": []
   },
   "outputs": [
    {
     "data": {
      "text/html": [
       "<div>\n",
       "<style scoped>\n",
       "    .dataframe tbody tr th:only-of-type {\n",
       "        vertical-align: middle;\n",
       "    }\n",
       "\n",
       "    .dataframe tbody tr th {\n",
       "        vertical-align: top;\n",
       "    }\n",
       "\n",
       "    .dataframe thead th {\n",
       "        text-align: right;\n",
       "    }\n",
       "</style>\n",
       "<table border=\"1\" class=\"dataframe\">\n",
       "  <thead>\n",
       "    <tr style=\"text-align: right;\">\n",
       "      <th></th>\n",
       "      <th>Permit Number</th>\n",
       "      <th>Permit Type</th>\n",
       "      <th>Permit Type Definition</th>\n",
       "      <th>Permit Creation Date</th>\n",
       "      <th>Block</th>\n",
       "      <th>Lot</th>\n",
       "      <th>Street Number</th>\n",
       "      <th>Street Number Suffix</th>\n",
       "      <th>Street Name</th>\n",
       "      <th>Street Suffix</th>\n",
       "      <th>...</th>\n",
       "      <th>Existing Construction Type</th>\n",
       "      <th>Existing Construction Type Description</th>\n",
       "      <th>Proposed Construction Type</th>\n",
       "      <th>Proposed Construction Type Description</th>\n",
       "      <th>Site Permit</th>\n",
       "      <th>Supervisor District</th>\n",
       "      <th>Neighborhoods - Analysis Boundaries</th>\n",
       "      <th>Zipcode</th>\n",
       "      <th>Location</th>\n",
       "      <th>Record ID</th>\n",
       "    </tr>\n",
       "  </thead>\n",
       "  <tbody>\n",
       "    <tr>\n",
       "      <th>0</th>\n",
       "      <td>201505065519</td>\n",
       "      <td>4</td>\n",
       "      <td>sign - erect</td>\n",
       "      <td>05/06/2015</td>\n",
       "      <td>0326</td>\n",
       "      <td>023</td>\n",
       "      <td>140</td>\n",
       "      <td>NaN</td>\n",
       "      <td>Ellis</td>\n",
       "      <td>St</td>\n",
       "      <td>...</td>\n",
       "      <td>3.0</td>\n",
       "      <td>constr type 3</td>\n",
       "      <td>NaN</td>\n",
       "      <td>NaN</td>\n",
       "      <td>NaN</td>\n",
       "      <td>3.0</td>\n",
       "      <td>Tenderloin</td>\n",
       "      <td>94102.0</td>\n",
       "      <td>(37.785719256680785, -122.40852313194863)</td>\n",
       "      <td>1380611233945</td>\n",
       "    </tr>\n",
       "    <tr>\n",
       "      <th>1</th>\n",
       "      <td>201604195146</td>\n",
       "      <td>4</td>\n",
       "      <td>sign - erect</td>\n",
       "      <td>04/19/2016</td>\n",
       "      <td>0306</td>\n",
       "      <td>007</td>\n",
       "      <td>440</td>\n",
       "      <td>NaN</td>\n",
       "      <td>Geary</td>\n",
       "      <td>St</td>\n",
       "      <td>...</td>\n",
       "      <td>3.0</td>\n",
       "      <td>constr type 3</td>\n",
       "      <td>NaN</td>\n",
       "      <td>NaN</td>\n",
       "      <td>NaN</td>\n",
       "      <td>3.0</td>\n",
       "      <td>Tenderloin</td>\n",
       "      <td>94102.0</td>\n",
       "      <td>(37.78733980600732, -122.41063199757738)</td>\n",
       "      <td>1420164406718</td>\n",
       "    </tr>\n",
       "    <tr>\n",
       "      <th>2</th>\n",
       "      <td>201605278609</td>\n",
       "      <td>3</td>\n",
       "      <td>additions alterations or repairs</td>\n",
       "      <td>05/27/2016</td>\n",
       "      <td>0595</td>\n",
       "      <td>203</td>\n",
       "      <td>1647</td>\n",
       "      <td>NaN</td>\n",
       "      <td>Pacific</td>\n",
       "      <td>Av</td>\n",
       "      <td>...</td>\n",
       "      <td>1.0</td>\n",
       "      <td>constr type 1</td>\n",
       "      <td>1.0</td>\n",
       "      <td>constr type 1</td>\n",
       "      <td>NaN</td>\n",
       "      <td>3.0</td>\n",
       "      <td>Russian Hill</td>\n",
       "      <td>94109.0</td>\n",
       "      <td>(37.7946573324287, -122.42232562979227)</td>\n",
       "      <td>1424856504716</td>\n",
       "    </tr>\n",
       "    <tr>\n",
       "      <th>3</th>\n",
       "      <td>201611072166</td>\n",
       "      <td>8</td>\n",
       "      <td>otc alterations permit</td>\n",
       "      <td>11/07/2016</td>\n",
       "      <td>0156</td>\n",
       "      <td>011</td>\n",
       "      <td>1230</td>\n",
       "      <td>NaN</td>\n",
       "      <td>Pacific</td>\n",
       "      <td>Av</td>\n",
       "      <td>...</td>\n",
       "      <td>5.0</td>\n",
       "      <td>wood frame (5)</td>\n",
       "      <td>5.0</td>\n",
       "      <td>wood frame (5)</td>\n",
       "      <td>NaN</td>\n",
       "      <td>3.0</td>\n",
       "      <td>Nob Hill</td>\n",
       "      <td>94109.0</td>\n",
       "      <td>(37.79595867909168, -122.41557405519474)</td>\n",
       "      <td>1443574295566</td>\n",
       "    </tr>\n",
       "    <tr>\n",
       "      <th>4</th>\n",
       "      <td>201611283529</td>\n",
       "      <td>6</td>\n",
       "      <td>demolitions</td>\n",
       "      <td>11/28/2016</td>\n",
       "      <td>0342</td>\n",
       "      <td>001</td>\n",
       "      <td>950</td>\n",
       "      <td>NaN</td>\n",
       "      <td>Market</td>\n",
       "      <td>St</td>\n",
       "      <td>...</td>\n",
       "      <td>3.0</td>\n",
       "      <td>constr type 3</td>\n",
       "      <td>NaN</td>\n",
       "      <td>NaN</td>\n",
       "      <td>NaN</td>\n",
       "      <td>6.0</td>\n",
       "      <td>Tenderloin</td>\n",
       "      <td>94102.0</td>\n",
       "      <td>(37.78315261897309, -122.40950883997789)</td>\n",
       "      <td>144548169992</td>\n",
       "    </tr>\n",
       "  </tbody>\n",
       "</table>\n",
       "<p>5 rows × 43 columns</p>\n",
       "</div>"
      ],
      "text/plain": [
       "  Permit Number  Permit Type            Permit Type Definition  \\\n",
       "0  201505065519            4                      sign - erect   \n",
       "1  201604195146            4                      sign - erect   \n",
       "2  201605278609            3  additions alterations or repairs   \n",
       "3  201611072166            8            otc alterations permit   \n",
       "4  201611283529            6                       demolitions   \n",
       "\n",
       "  Permit Creation Date Block  Lot  Street Number Street Number Suffix  \\\n",
       "0           05/06/2015  0326  023            140                  NaN   \n",
       "1           04/19/2016  0306  007            440                  NaN   \n",
       "2           05/27/2016  0595  203           1647                  NaN   \n",
       "3           11/07/2016  0156  011           1230                  NaN   \n",
       "4           11/28/2016  0342  001            950                  NaN   \n",
       "\n",
       "  Street Name Street Suffix  ...  Existing Construction Type  \\\n",
       "0       Ellis            St  ...                         3.0   \n",
       "1       Geary            St  ...                         3.0   \n",
       "2     Pacific            Av  ...                         1.0   \n",
       "3     Pacific            Av  ...                         5.0   \n",
       "4      Market            St  ...                         3.0   \n",
       "\n",
       "  Existing Construction Type Description Proposed Construction Type  \\\n",
       "0                          constr type 3                        NaN   \n",
       "1                          constr type 3                        NaN   \n",
       "2                          constr type 1                        1.0   \n",
       "3                         wood frame (5)                        5.0   \n",
       "4                          constr type 3                        NaN   \n",
       "\n",
       "  Proposed Construction Type Description Site Permit Supervisor District  \\\n",
       "0                                    NaN         NaN                 3.0   \n",
       "1                                    NaN         NaN                 3.0   \n",
       "2                          constr type 1         NaN                 3.0   \n",
       "3                         wood frame (5)         NaN                 3.0   \n",
       "4                                    NaN         NaN                 6.0   \n",
       "\n",
       "  Neighborhoods - Analysis Boundaries  Zipcode  \\\n",
       "0                          Tenderloin  94102.0   \n",
       "1                          Tenderloin  94102.0   \n",
       "2                        Russian Hill  94109.0   \n",
       "3                            Nob Hill  94109.0   \n",
       "4                          Tenderloin  94102.0   \n",
       "\n",
       "                                    Location      Record ID  \n",
       "0  (37.785719256680785, -122.40852313194863)  1380611233945  \n",
       "1   (37.78733980600732, -122.41063199757738)  1420164406718  \n",
       "2    (37.7946573324287, -122.42232562979227)  1424856504716  \n",
       "3   (37.79595867909168, -122.41557405519474)  1443574295566  \n",
       "4   (37.78315261897309, -122.40950883997789)   144548169992  \n",
       "\n",
       "[5 rows x 43 columns]"
      ]
     },
     "execution_count": 3,
     "metadata": {},
     "output_type": "execute_result"
    }
   ],
   "source": [
    "# TODO: Your code here!\n",
    "sf_permits.head(5)"
   ]
  },
  {
   "cell_type": "markdown",
   "id": "1c525feb",
   "metadata": {
    "papermill": {
     "duration": 0.027302,
     "end_time": "2022-05-13T18:33:36.155332",
     "exception": false,
     "start_time": "2022-05-13T18:33:36.128030",
     "status": "completed"
    },
    "tags": []
   },
   "source": [
    "Does the dataset have any missing values?  Once you have an answer, run the code cell below to get credit for your work."
   ]
  },
  {
   "cell_type": "code",
   "execution_count": 4,
   "id": "829bff9f",
   "metadata": {
    "execution": {
     "iopub.execute_input": "2022-05-13T18:33:36.212820Z",
     "iopub.status.busy": "2022-05-13T18:33:36.211838Z",
     "iopub.status.idle": "2022-05-13T18:33:36.718273Z",
     "shell.execute_reply": "2022-05-13T18:33:36.717253Z"
    },
    "papermill": {
     "duration": 0.537725,
     "end_time": "2022-05-13T18:33:36.720660",
     "exception": false,
     "start_time": "2022-05-13T18:33:36.182935",
     "status": "completed"
    },
    "tags": []
   },
   "outputs": [
    {
     "data": {
      "application/javascript": [
       "parent.postMessage({\"jupyterEvent\": \"custom.exercise_interaction\", \"data\": {\"outcomeType\": 1, \"valueTowardsCompletion\": 0.16666666666666666, \"interactionType\": 1, \"questionType\": 4, \"questionId\": \"1_TakeFirstLook\", \"learnToolsVersion\": \"0.3.4\", \"failureMessage\": \"\", \"exceptionClass\": \"\", \"trace\": \"\"}}, \"*\")"
      ],
      "text/plain": [
       "<IPython.core.display.Javascript object>"
      ]
     },
     "metadata": {},
     "output_type": "display_data"
    },
    {
     "data": {
      "text/markdown": [
       "<span style=\"color:#33cc33\">Correct:</span> \n",
       "\n",
       "The first five rows of the data does show that several columns have missing values.  You can see this in the \"Street Number Suffix\", \"Proposed Construction Type\" and \"Site Permit\" columns, among others."
      ],
      "text/plain": [
       "Correct: \n",
       "\n",
       "The first five rows of the data does show that several columns have missing values.  You can see this in the \"Street Number Suffix\", \"Proposed Construction Type\" and \"Site Permit\" columns, among others."
      ]
     },
     "metadata": {},
     "output_type": "display_data"
    },
    {
     "data": {
      "text/plain": [
       "2245941"
      ]
     },
     "execution_count": 4,
     "metadata": {},
     "output_type": "execute_result"
    }
   ],
   "source": [
    "# Check your answer (Run this code cell to receive credit!)\n",
    "q1.check()\n",
    "total_cells = np.product(sf_permits.shape)\n",
    "missing_values_count = sf_permits.isnull().sum()\n",
    "total_missing = missing_values_count.sum()\n",
    "total_missing"
   ]
  },
  {
   "cell_type": "code",
   "execution_count": 5,
   "id": "54df390b",
   "metadata": {
    "execution": {
     "iopub.execute_input": "2022-05-13T18:33:36.780953Z",
     "iopub.status.busy": "2022-05-13T18:33:36.780638Z",
     "iopub.status.idle": "2022-05-13T18:33:36.784411Z",
     "shell.execute_reply": "2022-05-13T18:33:36.783477Z"
    },
    "papermill": {
     "duration": 0.036147,
     "end_time": "2022-05-13T18:33:36.786565",
     "exception": false,
     "start_time": "2022-05-13T18:33:36.750418",
     "status": "completed"
    },
    "tags": []
   },
   "outputs": [],
   "source": [
    "# Line below will give you a hint\n",
    "#q1.hint()"
   ]
  },
  {
   "cell_type": "markdown",
   "id": "959eb497",
   "metadata": {
    "papermill": {
     "duration": 0.028747,
     "end_time": "2022-05-13T18:33:36.845953",
     "exception": false,
     "start_time": "2022-05-13T18:33:36.817206",
     "status": "completed"
    },
    "tags": []
   },
   "source": [
    "# 2) How many missing data points do we have?\n",
    "\n",
    "What percentage of the values in the dataset are missing?  Your answer should be a number between 0 and 100.  (If 1/4 of the values in the dataset are missing, the answer is 25.)"
   ]
  },
  {
   "cell_type": "code",
   "execution_count": 6,
   "id": "2b378d06",
   "metadata": {
    "execution": {
     "iopub.execute_input": "2022-05-13T18:33:36.906291Z",
     "iopub.status.busy": "2022-05-13T18:33:36.905739Z",
     "iopub.status.idle": "2022-05-13T18:33:36.913962Z",
     "shell.execute_reply": "2022-05-13T18:33:36.913143Z"
    },
    "papermill": {
     "duration": 0.040358,
     "end_time": "2022-05-13T18:33:36.915877",
     "exception": false,
     "start_time": "2022-05-13T18:33:36.875519",
     "status": "completed"
    },
    "tags": []
   },
   "outputs": [
    {
     "name": "stdout",
     "output_type": "stream",
     "text": [
      "26.26002315058403\n"
     ]
    },
    {
     "data": {
      "application/javascript": [
       "parent.postMessage({\"jupyterEvent\": \"custom.exercise_interaction\", \"data\": {\"outcomeType\": 1, \"valueTowardsCompletion\": 0.16666666666666666, \"interactionType\": 1, \"questionType\": 1, \"questionId\": \"2_PercentMissingValues\", \"learnToolsVersion\": \"0.3.4\", \"failureMessage\": \"\", \"exceptionClass\": \"\", \"trace\": \"\"}}, \"*\")"
      ],
      "text/plain": [
       "<IPython.core.display.Javascript object>"
      ]
     },
     "metadata": {},
     "output_type": "display_data"
    },
    {
     "data": {
      "text/markdown": [
       "<span style=\"color:#33cc33\">Correct</span>"
      ],
      "text/plain": [
       "Correct"
      ]
     },
     "metadata": {},
     "output_type": "display_data"
    }
   ],
   "source": [
    "# TODO: Your code here!\n",
    "percent_missing = (total_missing/total_cells)*100\n",
    "print(percent_missing)\n",
    "\n",
    "# Check your answer\n",
    "q2.check()"
   ]
  },
  {
   "cell_type": "code",
   "execution_count": 7,
   "id": "ceabeeaf",
   "metadata": {
    "execution": {
     "iopub.execute_input": "2022-05-13T18:33:36.979600Z",
     "iopub.status.busy": "2022-05-13T18:33:36.979028Z",
     "iopub.status.idle": "2022-05-13T18:33:36.982300Z",
     "shell.execute_reply": "2022-05-13T18:33:36.981491Z"
    },
    "papermill": {
     "duration": 0.037195,
     "end_time": "2022-05-13T18:33:36.984071",
     "exception": false,
     "start_time": "2022-05-13T18:33:36.946876",
     "status": "completed"
    },
    "tags": []
   },
   "outputs": [],
   "source": [
    "# Lines below will give you a hint or solution code\n",
    "#q2.hint()\n",
    "#q2.solution()"
   ]
  },
  {
   "cell_type": "markdown",
   "id": "cd2a104a",
   "metadata": {
    "papermill": {
     "duration": 0.030178,
     "end_time": "2022-05-13T18:33:37.046052",
     "exception": false,
     "start_time": "2022-05-13T18:33:37.015874",
     "status": "completed"
    },
    "tags": []
   },
   "source": [
    "# 3) Figure out why the data is missing\n",
    "\n",
    "Look at the columns **\"Street Number Suffix\"** and **\"Zipcode\"** from the [San Francisco Building Permits dataset](https://www.kaggle.com/aparnashastry/building-permit-applications-data). Both of these contain missing values. \n",
    "- Which, if either, are missing because they don't exist? \n",
    "- Which, if either, are missing because they weren't recorded?  \n",
    "\n",
    "Once you have an answer, run the code cell below."
   ]
  },
  {
   "cell_type": "code",
   "execution_count": 8,
   "id": "4d5b70e3",
   "metadata": {
    "execution": {
     "iopub.execute_input": "2022-05-13T18:33:37.108091Z",
     "iopub.status.busy": "2022-05-13T18:33:37.107553Z",
     "iopub.status.idle": "2022-05-13T18:33:37.114911Z",
     "shell.execute_reply": "2022-05-13T18:33:37.114116Z"
    },
    "papermill": {
     "duration": 0.040972,
     "end_time": "2022-05-13T18:33:37.117234",
     "exception": false,
     "start_time": "2022-05-13T18:33:37.076262",
     "status": "completed"
    },
    "tags": []
   },
   "outputs": [
    {
     "data": {
      "application/javascript": [
       "parent.postMessage({\"jupyterEvent\": \"custom.exercise_interaction\", \"data\": {\"outcomeType\": 1, \"valueTowardsCompletion\": 0.16666666666666666, \"interactionType\": 1, \"questionType\": 4, \"questionId\": \"3_WhyDataMissing\", \"learnToolsVersion\": \"0.3.4\", \"failureMessage\": \"\", \"exceptionClass\": \"\", \"trace\": \"\"}}, \"*\")"
      ],
      "text/plain": [
       "<IPython.core.display.Javascript object>"
      ]
     },
     "metadata": {},
     "output_type": "display_data"
    },
    {
     "data": {
      "text/markdown": [
       "<span style=\"color:#33cc33\">Correct:</span> \n",
       "\n",
       "If a value in the \"Street Number Suffix\" column is missing, it is likely because it does not exist. If a value in the \"Zipcode\" column is missing, it was not recorded."
      ],
      "text/plain": [
       "Correct: \n",
       "\n",
       "If a value in the \"Street Number Suffix\" column is missing, it is likely because it does not exist. If a value in the \"Zipcode\" column is missing, it was not recorded."
      ]
     },
     "metadata": {},
     "output_type": "display_data"
    }
   ],
   "source": [
    "# Check your answer (Run this code cell to receive credit!)\n",
    "#Street Number Suffix is missing beacuse it is likely it doesn't exist.\n",
    "#Zipcode column was missing beacuse it was not recorded.\n",
    "q3.check()"
   ]
  },
  {
   "cell_type": "code",
   "execution_count": 9,
   "id": "d8bc97c5",
   "metadata": {
    "execution": {
     "iopub.execute_input": "2022-05-13T18:33:37.183221Z",
     "iopub.status.busy": "2022-05-13T18:33:37.182936Z",
     "iopub.status.idle": "2022-05-13T18:33:37.185922Z",
     "shell.execute_reply": "2022-05-13T18:33:37.185306Z"
    },
    "papermill": {
     "duration": 0.03754,
     "end_time": "2022-05-13T18:33:37.187695",
     "exception": false,
     "start_time": "2022-05-13T18:33:37.150155",
     "status": "completed"
    },
    "tags": []
   },
   "outputs": [],
   "source": [
    "# Line below will give you a hint\n",
    "#q3.hint()"
   ]
  },
  {
   "cell_type": "markdown",
   "id": "63303353",
   "metadata": {
    "papermill": {
     "duration": 0.031503,
     "end_time": "2022-05-13T18:33:37.251000",
     "exception": false,
     "start_time": "2022-05-13T18:33:37.219497",
     "status": "completed"
    },
    "tags": []
   },
   "source": [
    "# 4) Drop missing values: rows\n",
    "\n",
    "If you removed all of the rows of `sf_permits` with missing values, how many rows are left?\n",
    "\n",
    "**Note**: Do not change the value of `sf_permits` when checking this.  "
   ]
  },
  {
   "cell_type": "code",
   "execution_count": 10,
   "id": "baff5551",
   "metadata": {
    "execution": {
     "iopub.execute_input": "2022-05-13T18:33:37.317818Z",
     "iopub.status.busy": "2022-05-13T18:33:37.317372Z",
     "iopub.status.idle": "2022-05-13T18:33:38.324980Z",
     "shell.execute_reply": "2022-05-13T18:33:38.324065Z"
    },
    "papermill": {
     "duration": 1.04255,
     "end_time": "2022-05-13T18:33:38.326940",
     "exception": false,
     "start_time": "2022-05-13T18:33:37.284390",
     "status": "completed"
    },
    "tags": []
   },
   "outputs": [
    {
     "name": "stdout",
     "output_type": "stream",
     "text": [
      "rows in original dataset: 198900 \n",
      "\n",
      "rows with na dropped: 0\n"
     ]
    }
   ],
   "source": [
    "# TODO: Your code here!\n",
    "sf_permits.dropna()\n",
    "rows_with_na_dropped = sf_permits.dropna(axis=0)\n",
    "rows_with_na_dropped.head()\n",
    "print(\"rows in original dataset: %d \\n\" % sf_permits.shape[0])\n",
    "print(\"rows with na dropped: %d\" % rows_with_na_dropped.shape[0])\n"
   ]
  },
  {
   "cell_type": "markdown",
   "id": "31c24d82",
   "metadata": {
    "papermill": {
     "duration": 0.032268,
     "end_time": "2022-05-13T18:33:38.394470",
     "exception": false,
     "start_time": "2022-05-13T18:33:38.362202",
     "status": "completed"
    },
    "tags": []
   },
   "source": [
    "Once you have an answer, run the code cell below."
   ]
  },
  {
   "cell_type": "code",
   "execution_count": 11,
   "id": "4dba1005",
   "metadata": {
    "execution": {
     "iopub.execute_input": "2022-05-13T18:33:38.463481Z",
     "iopub.status.busy": "2022-05-13T18:33:38.462643Z",
     "iopub.status.idle": "2022-05-13T18:33:38.469782Z",
     "shell.execute_reply": "2022-05-13T18:33:38.469068Z"
    },
    "papermill": {
     "duration": 0.044597,
     "end_time": "2022-05-13T18:33:38.471761",
     "exception": false,
     "start_time": "2022-05-13T18:33:38.427164",
     "status": "completed"
    },
    "tags": []
   },
   "outputs": [
    {
     "data": {
      "application/javascript": [
       "parent.postMessage({\"jupyterEvent\": \"custom.exercise_interaction\", \"data\": {\"outcomeType\": 1, \"valueTowardsCompletion\": 0.16666666666666666, \"interactionType\": 1, \"questionType\": 4, \"questionId\": \"4_DropMissingRows\", \"learnToolsVersion\": \"0.3.4\", \"failureMessage\": \"\", \"exceptionClass\": \"\", \"trace\": \"\"}}, \"*\")"
      ],
      "text/plain": [
       "<IPython.core.display.Javascript object>"
      ]
     },
     "metadata": {},
     "output_type": "display_data"
    },
    {
     "data": {
      "text/markdown": [
       "<span style=\"color:#33cc33\">Correct:</span> \n",
       "\n",
       "There are no rows remaining in the dataset!"
      ],
      "text/plain": [
       "Correct: \n",
       "\n",
       "There are no rows remaining in the dataset!"
      ]
     },
     "metadata": {},
     "output_type": "display_data"
    }
   ],
   "source": [
    "# Check your answer (Run this code cell to receive credit!)\n",
    "q4.check()"
   ]
  },
  {
   "cell_type": "code",
   "execution_count": 12,
   "id": "62b17fec",
   "metadata": {
    "execution": {
     "iopub.execute_input": "2022-05-13T18:33:38.547617Z",
     "iopub.status.busy": "2022-05-13T18:33:38.546669Z",
     "iopub.status.idle": "2022-05-13T18:33:38.550587Z",
     "shell.execute_reply": "2022-05-13T18:33:38.549982Z"
    },
    "papermill": {
     "duration": 0.042014,
     "end_time": "2022-05-13T18:33:38.552485",
     "exception": false,
     "start_time": "2022-05-13T18:33:38.510471",
     "status": "completed"
    },
    "tags": []
   },
   "outputs": [],
   "source": [
    "# Line below will give you a hint\n",
    "#q4.hint()"
   ]
  },
  {
   "cell_type": "markdown",
   "id": "7d9c215e",
   "metadata": {
    "papermill": {
     "duration": 0.032906,
     "end_time": "2022-05-13T18:33:38.618531",
     "exception": false,
     "start_time": "2022-05-13T18:33:38.585625",
     "status": "completed"
    },
    "tags": []
   },
   "source": [
    "# 5) Drop missing values: columns\n",
    "\n",
    "Now try removing all the columns with empty values.  \n",
    "- Create a new DataFrame called `sf_permits_with_na_dropped` that has all of the columns with empty values removed.  \n",
    "- How many columns were removed from the original `sf_permits` DataFrame? Use this number to set the value of the `dropped_columns` variable below."
   ]
  },
  {
   "cell_type": "code",
   "execution_count": 13,
   "id": "7cd7c07d",
   "metadata": {
    "execution": {
     "iopub.execute_input": "2022-05-13T18:33:38.686722Z",
     "iopub.status.busy": "2022-05-13T18:33:38.686317Z",
     "iopub.status.idle": "2022-05-13T18:33:40.193531Z",
     "shell.execute_reply": "2022-05-13T18:33:40.192650Z"
    },
    "papermill": {
     "duration": 1.544003,
     "end_time": "2022-05-13T18:33:40.195779",
     "exception": false,
     "start_time": "2022-05-13T18:33:38.651776",
     "status": "completed"
    },
    "tags": []
   },
   "outputs": [
    {
     "name": "stdout",
     "output_type": "stream",
     "text": [
      "columns in original dataset: 43 \n",
      "\n",
      "dropped_columns: 12\n"
     ]
    }
   ],
   "source": [
    "# TODO: Your code here\n",
    "sf_permits.dropna()\n",
    "sf_permits_with_na_dropped = sf_permits.dropna(axis=1)\n",
    "sf_permits_with_na_dropped.head()\n",
    "dropped_columns = sf_permits.dropna(axis=1)\n",
    "\n",
    "print(\"columns in original dataset: %d \\n\" % sf_permits.shape[1])\n",
    "print(\"dropped_columns: %d\" % dropped_columns.shape[1])\n"
   ]
  },
  {
   "cell_type": "code",
   "execution_count": 14,
   "id": "20e35981",
   "metadata": {
    "execution": {
     "iopub.execute_input": "2022-05-13T18:33:40.266680Z",
     "iopub.status.busy": "2022-05-13T18:33:40.266124Z",
     "iopub.status.idle": "2022-05-13T18:33:40.269064Z",
     "shell.execute_reply": "2022-05-13T18:33:40.268484Z"
    },
    "papermill": {
     "duration": 0.041418,
     "end_time": "2022-05-13T18:33:40.270970",
     "exception": false,
     "start_time": "2022-05-13T18:33:40.229552",
     "status": "completed"
    },
    "tags": []
   },
   "outputs": [],
   "source": [
    "# Check your answer\n",
    "#q5.check()"
   ]
  },
  {
   "cell_type": "code",
   "execution_count": 15,
   "id": "eaefad63",
   "metadata": {
    "execution": {
     "iopub.execute_input": "2022-05-13T18:33:40.339958Z",
     "iopub.status.busy": "2022-05-13T18:33:40.339416Z",
     "iopub.status.idle": "2022-05-13T18:33:40.342560Z",
     "shell.execute_reply": "2022-05-13T18:33:40.341878Z"
    },
    "papermill": {
     "duration": 0.039889,
     "end_time": "2022-05-13T18:33:40.344471",
     "exception": false,
     "start_time": "2022-05-13T18:33:40.304582",
     "status": "completed"
    },
    "tags": []
   },
   "outputs": [],
   "source": [
    "# Lines below will give you a hint or solution code\n",
    "#q5.hint()\n",
    "#q5.solution()"
   ]
  },
  {
   "cell_type": "markdown",
   "id": "ebf39fbb",
   "metadata": {
    "papermill": {
     "duration": 0.033267,
     "end_time": "2022-05-13T18:33:40.412909",
     "exception": false,
     "start_time": "2022-05-13T18:33:40.379642",
     "status": "completed"
    },
    "tags": []
   },
   "source": [
    "# 6) Fill in missing values automatically\n",
    "\n",
    "Try replacing all the NaN's in the `sf_permits` data with the one that comes directly after it and then replacing any remaining NaN's with 0.  Set the result to a new DataFrame `sf_permits_with_na_imputed`."
   ]
  },
  {
   "cell_type": "code",
   "execution_count": 16,
   "id": "b69326b2",
   "metadata": {
    "execution": {
     "iopub.execute_input": "2022-05-13T18:33:40.483035Z",
     "iopub.status.busy": "2022-05-13T18:33:40.482491Z",
     "iopub.status.idle": "2022-05-13T18:33:41.971609Z",
     "shell.execute_reply": "2022-05-13T18:33:41.970561Z"
    },
    "papermill": {
     "duration": 1.528277,
     "end_time": "2022-05-13T18:33:41.975641",
     "exception": false,
     "start_time": "2022-05-13T18:33:40.447364",
     "status": "completed"
    },
    "tags": []
   },
   "outputs": [
    {
     "data": {
      "application/javascript": [
       "parent.postMessage({\"jupyterEvent\": \"custom.exercise_interaction\", \"data\": {\"outcomeType\": 1, \"valueTowardsCompletion\": 0.16666666666666666, \"interactionType\": 1, \"questionType\": 1, \"questionId\": \"6_ImputeAutomatically\", \"learnToolsVersion\": \"0.3.4\", \"failureMessage\": \"\", \"exceptionClass\": \"\", \"trace\": \"\"}}, \"*\")"
      ],
      "text/plain": [
       "<IPython.core.display.Javascript object>"
      ]
     },
     "metadata": {},
     "output_type": "display_data"
    },
    {
     "data": {
      "text/markdown": [
       "<span style=\"color:#33cc33\">Correct</span>"
      ],
      "text/plain": [
       "Correct"
      ]
     },
     "metadata": {},
     "output_type": "display_data"
    }
   ],
   "source": [
    "# TODO: Your code here\n",
    "sf_permits_with_na_imputed = sf_permits.fillna(method='bfill', axis=0).fillna(0)\n",
    "sf_permits_with_na_imputed\n",
    "q6.check()"
   ]
  },
  {
   "cell_type": "code",
   "execution_count": 17,
   "id": "d5e551af",
   "metadata": {
    "execution": {
     "iopub.execute_input": "2022-05-13T18:33:42.047593Z",
     "iopub.status.busy": "2022-05-13T18:33:42.047194Z",
     "iopub.status.idle": "2022-05-13T18:33:42.050616Z",
     "shell.execute_reply": "2022-05-13T18:33:42.049906Z"
    },
    "papermill": {
     "duration": 0.042139,
     "end_time": "2022-05-13T18:33:42.052498",
     "exception": false,
     "start_time": "2022-05-13T18:33:42.010359",
     "status": "completed"
    },
    "tags": []
   },
   "outputs": [],
   "source": [
    "# Lines below will give you a hint or solution code\n",
    "#q6.hint()\n",
    "#q6.solution()\n"
   ]
  },
  {
   "cell_type": "markdown",
   "id": "8d1deeae",
   "metadata": {
    "papermill": {
     "duration": 0.034256,
     "end_time": "2022-05-13T18:33:42.122294",
     "exception": false,
     "start_time": "2022-05-13T18:33:42.088038",
     "status": "completed"
    },
    "tags": []
   },
   "source": [
    "# More practice\n",
    "\n",
    "If you're looking for more practice handling missing values:\n",
    "\n",
    "* Check out [this noteboook](https://www.kaggle.com/alexisbcook/missing-values) on handling missing values using scikit-learn's imputer. \n",
    "* Look back at the \"Zipcode\" column in the `sf_permits` dataset, which has some missing values. How would you go about figuring out what the actual zipcode of each address should be? (You might try using another dataset. You can search for datasets about San Fransisco on the [Datasets listing](https://www.kaggle.com/datasets).) \n",
    "\n",
    "# Keep going\n",
    "\n",
    "In the next lesson, learn how to [**apply scaling and normalization**](https://www.kaggle.com/alexisbcook/scaling-and-normalization) to transform your data."
   ]
  },
  {
   "cell_type": "markdown",
   "id": "24e8ea7e",
   "metadata": {
    "papermill": {
     "duration": 0.035351,
     "end_time": "2022-05-13T18:33:42.192900",
     "exception": false,
     "start_time": "2022-05-13T18:33:42.157549",
     "status": "completed"
    },
    "tags": []
   },
   "source": [
    "---\n",
    "\n",
    "\n",
    "\n",
    "\n",
    "*Have questions or comments? Visit the [course discussion forum](https://www.kaggle.com/learn/data-cleaning/discussion) to chat with other learners.*"
   ]
  }
 ],
 "metadata": {
  "kernelspec": {
   "display_name": "Python 3",
   "language": "python",
   "name": "python3"
  },
  "language_info": {
   "codemirror_mode": {
    "name": "ipython",
    "version": 3
   },
   "file_extension": ".py",
   "mimetype": "text/x-python",
   "name": "python",
   "nbconvert_exporter": "python",
   "pygments_lexer": "ipython3",
   "version": "3.7.12"
  },
  "papermill": {
   "default_parameters": {},
   "duration": 25.064234,
   "end_time": "2022-05-13T18:33:43.049030",
   "environment_variables": {},
   "exception": null,
   "input_path": "__notebook__.ipynb",
   "output_path": "__notebook__.ipynb",
   "parameters": {},
   "start_time": "2022-05-13T18:33:17.984796",
   "version": "2.3.4"
  }
 },
 "nbformat": 4,
 "nbformat_minor": 5
}
